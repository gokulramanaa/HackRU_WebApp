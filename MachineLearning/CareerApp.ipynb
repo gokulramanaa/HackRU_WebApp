{
 "cells": [
  {
   "cell_type": "code",
   "execution_count": 1,
   "metadata": {
    "collapsed": true
   },
   "outputs": [],
   "source": [
    "import pandas as pd\n",
    "import numpy as np\n",
    "import matplotlib.pyplot as plt\n",
    "from sklearn.model_selection import train_test_split\n",
    "from random import *\n",
    "from collections import Counter\n",
    "from sklearn import tree\n",
    "from sklearn.metrics import accuracy_score\n",
    "#from sklearn.neighbors import BinaryTree\n",
    "import sklearn.neighbors \n",
    "import pickle\n",
    "#X = data[['A1', 'A2', 'A3', 'A4', 'A5', 'A6', 'A7', 'A8', 'A9', 'A10','age','accuracy','source']]\n",
    "\n",
    "def model_storage():\n",
    "    global filename\n",
    "    data = pd.read_csv(\"C:/Users/gokul/Documents/Projects/Career Advisor/16PF/data.csv\", sep=\"\\t\")\n",
    "    x = Counter(list(data['country']))\n",
    "\n",
    "    temp = []\n",
    "    for i in range(49159):\n",
    "        temp.append(randint(1,10))\n",
    "\n",
    "    temp = np.array(temp)\n",
    "    data['Profession'] = np.zeros((len(data),1))\n",
    "\n",
    "    temp2 = np.zeros((len(data),1))\n",
    "    temp3 = temp2\n",
    "    temp2 = temp2.astype('str')\n",
    "\n",
    "    temp2[temp==1] = \"Teacher\"\n",
    "    temp2[temp==2] = \"Doctor\"\n",
    "    temp2[temp==3] = \"Artist\"\n",
    "    temp2[temp==4] = \"Army\"\n",
    "    temp2[temp==5] = \"Social Service\"\n",
    "    temp2[temp==6] = \"Actor\"\n",
    "    temp2[temp==7] = \"Software Engineer\"\n",
    "    temp2[temp==8] = \"Salesman\"\n",
    "    temp2[temp==9] = \"Marketing\"\n",
    "    temp2[temp==10] = \"Writer\"\n",
    "\n",
    "    temp2 = temp2.astype('str')\n",
    "\n",
    "    data['Profession'] = temp2\n",
    "\n",
    "    X_temp = data[['A1', 'A2', 'A3', 'A4', 'A5', 'A6', 'A7', 'A8', 'A9', 'A10','age','accuracy','source']]\n",
    "    y = temp\n",
    "    mu = X_temp.mean(axis=0)\n",
    "    stdv = X_temp.std(axis = 0)\n",
    "    X = (X_temp - mu)/stdv\n",
    "    #X.shape\n",
    "    # from sklearn.decomposition import PCA\n",
    "    # pca = PCA(n_components=100, svd_solver='full')\n",
    "    # pca.fit(X_temp)\n",
    "    # X = pca.transform(X_temp)\n",
    "\n",
    "    X_train, X_test, y_train, y_test = train_test_split(X, y, test_size=0.10, random_state=324)\n",
    "\n",
    "\n",
    "    tree = sklearn.neighbors.KDTree(X, leaf_size=30, metric = 'euclidean')\n",
    "    filename = 'finalized_model.sav'\n",
    "    pickle.dump((tree,data,X), open(filename, 'wb'))\n",
    "\n",
    "filename= None\n",
    "model_storage()    \n"
   ]
  },
  {
   "cell_type": "code",
   "execution_count": null,
   "metadata": {
    "collapsed": true
   },
   "outputs": [],
   "source": [
    "#!pip install SimpleHTTPServer\n",
    "!python -m http.server 8000\n",
    "import SimpleHTTPServer\n",
    "import SocketServer\n",
    "\n",
    "PORT = 8000\n",
    "\n",
    "Handler = SimpleHTTPServer.SimpleHTTPRequestHandler\n",
    "\n",
    "httpd = SocketServer.TCPServer((\"\", PORT), Handler)\n",
    "\n",
    "print (\"serving at port\", PORT)\n",
    "httpd.serve_forever()"
   ]
  },
  {
   "cell_type": "code",
   "execution_count": 1,
   "metadata": {},
   "outputs": [
    {
     "name": "stderr",
     "output_type": "stream",
     "text": [
      "C:\\Users\\gokul\\Anaconda3\\python.exe: No module named SimpleHTTPServer\n"
     ]
    }
   ],
   "source": [
    "!python -m SimpleHTTPServer"
   ]
  },
  {
   "cell_type": "code",
   "execution_count": null,
   "metadata": {
    "collapsed": true
   },
   "outputs": [],
   "source": []
  },
  {
   "cell_type": "code",
   "execution_count": 2,
   "metadata": {
    "collapsed": true
   },
   "outputs": [],
   "source": [
    "import json\n",
    "def func_call(i):\n",
    "    global filename\n",
    "    loaded_model,data,X = pickle.load(open(filename, 'rb'))\n",
    "    dist, ind = loaded_model.query(X[i:i+1], k=4)\n",
    "    rank1 = data.loc[int(ind[:,1])][-1]\n",
    "    rank2 = data.loc[int(ind[:,2])][-1]\n",
    "    rank3 = data.loc[int(ind[:,3])][-1]\n",
    "    #print(rank1,rank2,rank3)\n",
    "    setva = set((rank1,rank2,rank3))\n",
    "    retdata = {}\n",
    "    for i in range(len(setva)):\n",
    "        retdata[\"Option\" + str(i+1)] = setva.pop()\n",
    "    tee = json.dumps(retdata)\n",
    "    loaded_r = json.loads(tee)\n",
    "    return loaded_r\n",
    "tee = func_call(9)"
   ]
  },
  {
   "cell_type": "code",
   "execution_count": 3,
   "metadata": {},
   "outputs": [
    {
     "data": {
      "text/plain": [
       "{'Option1': 'Software Engineer', 'Option2': 'Actor', 'Option3': 'Army'}"
      ]
     },
     "execution_count": 3,
     "metadata": {},
     "output_type": "execute_result"
    }
   ],
   "source": [
    "tee"
   ]
  },
  {
   "cell_type": "code",
   "execution_count": 4,
   "metadata": {
    "collapsed": true
   },
   "outputs": [],
   "source": [
    "from flask import Response, Flask, request\n",
    "from flask import Flask, request\n",
    "from flask_restful import Resource, Api\n",
    "from sqlalchemy import create_engine\n",
    "from json import dumps\n",
    "from flask_jsonpify import jsonify\n",
    "from pandas.io.json import json_normalize as jsy \n",
    "\n",
    "app = Flask(__name__)\n",
    "@app.route('/query', methods=['GET', 'POST'])\n",
    "def test():\n",
    "    from_message = request.json\n",
    "    from_message = {'userId': 'adarsh.vijayaraghavan@rutgers.com', 'qAndA': [{'qID': '5adc4fdbcabc0e29b858f305', 'answer': 'on'}, {'qID': '5adc5004cabc0e29b858f30b', 'answer': 'on'}, {'qID': '5adc5013cabc0e29b858f311', 'answer': 'on'}, {'qID': '5adc5022cabc0e29b858f317', 'answer': 'on'}, {'qID': '5adc5031cabc0e29b858f31d', 'answer': 'on'}, {'qID': '5adc503fcabc0e29b858f323', 'answer': 'on'}, {'qID': '5adc504bcabc0e29b858f329', 'answer': 'on'}, {'qID': '5adc5058cabc0e29b858f32f', 'answer': 'on'}, {'qID': '5adc5064cabc0e29b858f335', 'answer': 'on'}, {'qID': '5adc50b1cabc0e29b858f33b'}, {'qID': '5adc50c7cabc0e29b858f33d'}, {'qID': '5adc50edcabc0e29b858f33f', 'answer': 'on'}, {'qID': '5adc5101cabc0e29b858f347', 'answer': 'on'}, {'qID': '5adc511ecabc0e29b858f34d', 'answer': 'on'}, {'qID': '5adc512dcabc0e29b858f358', 'answer': 'on'}]}\n",
    "    print(from_message)\n",
    "    #pd1 = jsy(Jobs_json)\n",
    "    #pd2 = jsy(pd1, \"questions\")\n",
    "    #ques = pd2.T\n",
    "    #data = pd.concat(pd1,data)\n",
    "    #func_call(data)\n",
    "    tee = func_call(980)\n",
    "    return \"%s\" %tee"
   ]
  },
  {
   "cell_type": "code",
   "execution_count": null,
   "metadata": {
    "scrolled": false
   },
   "outputs": [
    {
     "name": "stderr",
     "output_type": "stream",
     "text": [
      " * Running on http://127.0.0.1:5000/ (Press CTRL+C to quit)\n",
      "127.0.0.1 - - [22/Apr/2018 09:11:51] \"POST /query HTTP/1.1\" 200 -\n"
     ]
    },
    {
     "name": "stdout",
     "output_type": "stream",
     "text": [
      "{'userId': 'adarsh.vijayaraghavan@rutgers.com', 'qAndA': [{'qID': '5adc4fdbcabc0e29b858f305', 'answer': 'on'}, {'qID': '5adc5004cabc0e29b858f30b', 'answer': 'on'}, {'qID': '5adc5013cabc0e29b858f311', 'answer': 'on'}, {'qID': '5adc5022cabc0e29b858f317', 'answer': 'on'}, {'qID': '5adc5031cabc0e29b858f31d', 'answer': 'on'}, {'qID': '5adc503fcabc0e29b858f323', 'answer': 'on'}, {'qID': '5adc504bcabc0e29b858f329', 'answer': 'on'}, {'qID': '5adc5058cabc0e29b858f32f', 'answer': 'on'}, {'qID': '5adc5064cabc0e29b858f335', 'answer': 'on'}, {'qID': '5adc50b1cabc0e29b858f33b'}, {'qID': '5adc50c7cabc0e29b858f33d'}, {'qID': '5adc50edcabc0e29b858f33f', 'answer': 'on'}, {'qID': '5adc5101cabc0e29b858f347', 'answer': 'on'}, {'qID': '5adc511ecabc0e29b858f34d', 'answer': 'on'}, {'qID': '5adc512dcabc0e29b858f358', 'answer': 'on'}]}\n"
     ]
    }
   ],
   "source": [
    "app.run()"
   ]
  },
  {
   "cell_type": "code",
   "execution_count": 262,
   "metadata": {},
   "outputs": [
    {
     "name": "stdout",
     "output_type": "stream",
     "text": [
      "{'userId': 'adarsh.vijayaraghavan@rutgers.com', 'qAndA': [{'qID': '5adc4fdbcabc0e29b858f305', 'answer': 'on'}, {'qID': '5adc5004cabc0e29b858f30b', 'answer': 'on'}, {'qID': '5adc5013cabc0e29b858f311', 'answer': 'on'}, {'qID': '5adc5022cabc0e29b858f317', 'answer': 'on'}, {'qID': '5adc5031cabc0e29b858f31d', 'answer': 'on'}, {'qID': '5adc503fcabc0e29b858f323', 'answer': 'on'}, {'qID': '5adc504bcabc0e29b858f329', 'answer': 'on'}, {'qID': '5adc5058cabc0e29b858f32f', 'answer': 'on'}, {'qID': '5adc5064cabc0e29b858f335', 'answer': 'on'}, {'qID': '5adc50b1cabc0e29b858f33b'}, {'qID': '5adc50c7cabc0e29b858f33d'}, {'qID': '5adc50edcabc0e29b858f33f', 'answer': 'on'}, {'qID': '5adc5101cabc0e29b858f347', 'answer': 'on'}, {'qID': '5adc511ecabc0e29b858f34d', 'answer': 'on'}, {'qID': '5adc512dcabc0e29b858f358', 'answer': 'on'}]}\n"
     ]
    },
    {
     "ename": "TypeError",
     "evalue": "string indices must be integers",
     "output_type": "error",
     "traceback": [
      "\u001b[1;31m---------------------------------------------------------------------------\u001b[0m",
      "\u001b[1;31mTypeError\u001b[0m                                 Traceback (most recent call last)",
      "\u001b[1;32m<ipython-input-262-868c92063d90>\u001b[0m in \u001b[0;36m<module>\u001b[1;34m()\u001b[0m\n\u001b[0;32m      2\u001b[0m \u001b[0mprint\u001b[0m\u001b[1;33m(\u001b[0m\u001b[0mfrom_message\u001b[0m\u001b[1;33m)\u001b[0m\u001b[1;33m\u001b[0m\u001b[0m\n\u001b[0;32m      3\u001b[0m \u001b[0mpd1\u001b[0m \u001b[1;33m=\u001b[0m \u001b[0mjsy\u001b[0m\u001b[1;33m(\u001b[0m\u001b[0mfrom_message\u001b[0m\u001b[1;33m)\u001b[0m\u001b[1;33m\u001b[0m\u001b[0m\n\u001b[1;32m----> 4\u001b[1;33m \u001b[0mpd2\u001b[0m \u001b[1;33m=\u001b[0m \u001b[0mjsy\u001b[0m\u001b[1;33m(\u001b[0m\u001b[0mpd1\u001b[0m\u001b[1;33m,\u001b[0m \u001b[1;34m\"qAndA\"\u001b[0m\u001b[1;33m)\u001b[0m\u001b[1;33m\u001b[0m\u001b[0m\n\u001b[0m\u001b[0;32m      5\u001b[0m \u001b[1;31m#ques = pd2.T\u001b[0m\u001b[1;33m\u001b[0m\u001b[1;33m\u001b[0m\u001b[0m\n\u001b[0;32m      6\u001b[0m \u001b[1;31m#data = pd.concat(pd1,data)\u001b[0m\u001b[1;33m\u001b[0m\u001b[1;33m\u001b[0m\u001b[0m\n",
      "\u001b[1;32m~\\Anaconda3\\lib\\site-packages\\pandas\\io\\json\\normalize.py\u001b[0m in \u001b[0;36mjson_normalize\u001b[1;34m(data, record_path, meta, meta_prefix, record_prefix, errors, sep)\u001b[0m\n\u001b[0;32m    246\u001b[0m                 \u001b[0mrecords\u001b[0m\u001b[1;33m.\u001b[0m\u001b[0mextend\u001b[0m\u001b[1;33m(\u001b[0m\u001b[0mrecs\u001b[0m\u001b[1;33m)\u001b[0m\u001b[1;33m\u001b[0m\u001b[0m\n\u001b[0;32m    247\u001b[0m \u001b[1;33m\u001b[0m\u001b[0m\n\u001b[1;32m--> 248\u001b[1;33m     \u001b[0m_recursive_extract\u001b[0m\u001b[1;33m(\u001b[0m\u001b[0mdata\u001b[0m\u001b[1;33m,\u001b[0m \u001b[0mrecord_path\u001b[0m\u001b[1;33m,\u001b[0m \u001b[1;33m{\u001b[0m\u001b[1;33m}\u001b[0m\u001b[1;33m,\u001b[0m \u001b[0mlevel\u001b[0m\u001b[1;33m=\u001b[0m\u001b[1;36m0\u001b[0m\u001b[1;33m)\u001b[0m\u001b[1;33m\u001b[0m\u001b[0m\n\u001b[0m\u001b[0;32m    249\u001b[0m \u001b[1;33m\u001b[0m\u001b[0m\n\u001b[0;32m    250\u001b[0m     \u001b[0mresult\u001b[0m \u001b[1;33m=\u001b[0m \u001b[0mDataFrame\u001b[0m\u001b[1;33m(\u001b[0m\u001b[0mrecords\u001b[0m\u001b[1;33m)\u001b[0m\u001b[1;33m\u001b[0m\u001b[0m\n",
      "\u001b[1;32m~\\Anaconda3\\lib\\site-packages\\pandas\\io\\json\\normalize.py\u001b[0m in \u001b[0;36m_recursive_extract\u001b[1;34m(data, path, seen_meta, level)\u001b[0m\n\u001b[0;32m    223\u001b[0m         \u001b[1;32melse\u001b[0m\u001b[1;33m:\u001b[0m\u001b[1;33m\u001b[0m\u001b[0m\n\u001b[0;32m    224\u001b[0m             \u001b[1;32mfor\u001b[0m \u001b[0mobj\u001b[0m \u001b[1;32min\u001b[0m \u001b[0mdata\u001b[0m\u001b[1;33m:\u001b[0m\u001b[1;33m\u001b[0m\u001b[0m\n\u001b[1;32m--> 225\u001b[1;33m                 \u001b[0mrecs\u001b[0m \u001b[1;33m=\u001b[0m \u001b[0m_pull_field\u001b[0m\u001b[1;33m(\u001b[0m\u001b[0mobj\u001b[0m\u001b[1;33m,\u001b[0m \u001b[0mpath\u001b[0m\u001b[1;33m[\u001b[0m\u001b[1;36m0\u001b[0m\u001b[1;33m]\u001b[0m\u001b[1;33m)\u001b[0m\u001b[1;33m\u001b[0m\u001b[0m\n\u001b[0m\u001b[0;32m    226\u001b[0m \u001b[1;33m\u001b[0m\u001b[0m\n\u001b[0;32m    227\u001b[0m                 \u001b[1;31m# For repeating the metadata later\u001b[0m\u001b[1;33m\u001b[0m\u001b[1;33m\u001b[0m\u001b[0m\n",
      "\u001b[1;32m~\\Anaconda3\\lib\\site-packages\\pandas\\io\\json\\normalize.py\u001b[0m in \u001b[0;36m_pull_field\u001b[1;34m(js, spec)\u001b[0m\n\u001b[0;32m    169\u001b[0m                 \u001b[0mresult\u001b[0m \u001b[1;33m=\u001b[0m \u001b[0mresult\u001b[0m\u001b[1;33m[\u001b[0m\u001b[0mfield\u001b[0m\u001b[1;33m]\u001b[0m\u001b[1;33m\u001b[0m\u001b[0m\n\u001b[0;32m    170\u001b[0m         \u001b[1;32melse\u001b[0m\u001b[1;33m:\u001b[0m\u001b[1;33m\u001b[0m\u001b[0m\n\u001b[1;32m--> 171\u001b[1;33m             \u001b[0mresult\u001b[0m \u001b[1;33m=\u001b[0m \u001b[0mresult\u001b[0m\u001b[1;33m[\u001b[0m\u001b[0mspec\u001b[0m\u001b[1;33m]\u001b[0m\u001b[1;33m\u001b[0m\u001b[0m\n\u001b[0m\u001b[0;32m    172\u001b[0m \u001b[1;33m\u001b[0m\u001b[0m\n\u001b[0;32m    173\u001b[0m         \u001b[1;32mreturn\u001b[0m \u001b[0mresult\u001b[0m\u001b[1;33m\u001b[0m\u001b[0m\n",
      "\u001b[1;31mTypeError\u001b[0m: string indices must be integers"
     ]
    }
   ],
   "source": [
    "from_message = {'userId': 'adarsh.vijayaraghavan@rutgers.com', 'qAndA': [{'qID': '5adc4fdbcabc0e29b858f305', 'answer': 'on'}, {'qID': '5adc5004cabc0e29b858f30b', 'answer': 'on'}, {'qID': '5adc5013cabc0e29b858f311', 'answer': 'on'}, {'qID': '5adc5022cabc0e29b858f317', 'answer': 'on'}, {'qID': '5adc5031cabc0e29b858f31d', 'answer': 'on'}, {'qID': '5adc503fcabc0e29b858f323', 'answer': 'on'}, {'qID': '5adc504bcabc0e29b858f329', 'answer': 'on'}, {'qID': '5adc5058cabc0e29b858f32f', 'answer': 'on'}, {'qID': '5adc5064cabc0e29b858f335', 'answer': 'on'}, {'qID': '5adc50b1cabc0e29b858f33b'}, {'qID': '5adc50c7cabc0e29b858f33d'}, {'qID': '5adc50edcabc0e29b858f33f', 'answer': 'on'}, {'qID': '5adc5101cabc0e29b858f347', 'answer': 'on'}, {'qID': '5adc511ecabc0e29b858f34d', 'answer': 'on'}, {'qID': '5adc512dcabc0e29b858f358', 'answer': 'on'}]}\n",
    "print(from_message)\n",
    "pd1 = jsy(from_message)\n",
    "pd2 = jsy(pd1, \"qAndA\")\n",
    "#ques = pd2.T\n",
    "#data = pd.concat(pd1,data)\n",
    "#func_call(data)\n",
    "pd2"
   ]
  },
  {
   "cell_type": "code",
   "execution_count": null,
   "metadata": {
    "collapsed": true
   },
   "outputs": [],
   "source": []
  },
  {
   "cell_type": "code",
   "execution_count": null,
   "metadata": {
    "collapsed": true
   },
   "outputs": [],
   "source": []
  },
  {
   "cell_type": "code",
   "execution_count": 124,
   "metadata": {
    "scrolled": true
   },
   "outputs": [
    {
     "data": {
      "text/html": [
       "<div>\n",
       "<style>\n",
       "    .dataframe thead tr:only-child th {\n",
       "        text-align: right;\n",
       "    }\n",
       "\n",
       "    .dataframe thead th {\n",
       "        text-align: left;\n",
       "    }\n",
       "\n",
       "    .dataframe tbody tr th {\n",
       "        vertical-align: top;\n",
       "    }\n",
       "</style>\n",
       "<table border=\"1\" class=\"dataframe\">\n",
       "  <thead>\n",
       "    <tr style=\"text-align: right;\">\n",
       "      <th></th>\n",
       "      <th>A1</th>\n",
       "      <th>A2</th>\n",
       "      <th>A3</th>\n",
       "      <th>A4</th>\n",
       "      <th>A5</th>\n",
       "      <th>A6</th>\n",
       "      <th>A7</th>\n",
       "      <th>A8</th>\n",
       "      <th>A9</th>\n",
       "      <th>A10</th>\n",
       "      <th>...</th>\n",
       "      <th>P7</th>\n",
       "      <th>P8</th>\n",
       "      <th>P9</th>\n",
       "      <th>P10</th>\n",
       "      <th>age</th>\n",
       "      <th>gender</th>\n",
       "      <th>accuracy</th>\n",
       "      <th>country</th>\n",
       "      <th>source</th>\n",
       "      <th>elapsed</th>\n",
       "    </tr>\n",
       "  </thead>\n",
       "  <tbody>\n",
       "    <tr>\n",
       "      <th>0</th>\n",
       "      <td>1</td>\n",
       "      <td>4</td>\n",
       "      <td>2</td>\n",
       "      <td>3</td>\n",
       "      <td>3</td>\n",
       "      <td>2</td>\n",
       "      <td>3</td>\n",
       "      <td>4</td>\n",
       "      <td>4</td>\n",
       "      <td>3</td>\n",
       "      <td>...</td>\n",
       "      <td>1</td>\n",
       "      <td>2</td>\n",
       "      <td>5</td>\n",
       "      <td>2</td>\n",
       "      <td>17</td>\n",
       "      <td>1</td>\n",
       "      <td>92</td>\n",
       "      <td>US</td>\n",
       "      <td>6</td>\n",
       "      <td>914</td>\n",
       "    </tr>\n",
       "    <tr>\n",
       "      <th>1</th>\n",
       "      <td>4</td>\n",
       "      <td>3</td>\n",
       "      <td>4</td>\n",
       "      <td>3</td>\n",
       "      <td>4</td>\n",
       "      <td>4</td>\n",
       "      <td>4</td>\n",
       "      <td>4</td>\n",
       "      <td>2</td>\n",
       "      <td>2</td>\n",
       "      <td>...</td>\n",
       "      <td>3</td>\n",
       "      <td>2</td>\n",
       "      <td>2</td>\n",
       "      <td>2</td>\n",
       "      <td>37</td>\n",
       "      <td>1</td>\n",
       "      <td>100</td>\n",
       "      <td>US</td>\n",
       "      <td>1</td>\n",
       "      <td>891</td>\n",
       "    </tr>\n",
       "    <tr>\n",
       "      <th>2</th>\n",
       "      <td>3</td>\n",
       "      <td>4</td>\n",
       "      <td>4</td>\n",
       "      <td>4</td>\n",
       "      <td>4</td>\n",
       "      <td>4</td>\n",
       "      <td>4</td>\n",
       "      <td>3</td>\n",
       "      <td>2</td>\n",
       "      <td>2</td>\n",
       "      <td>...</td>\n",
       "      <td>2</td>\n",
       "      <td>3</td>\n",
       "      <td>3</td>\n",
       "      <td>3</td>\n",
       "      <td>31</td>\n",
       "      <td>1</td>\n",
       "      <td>80</td>\n",
       "      <td>US</td>\n",
       "      <td>6</td>\n",
       "      <td>903</td>\n",
       "    </tr>\n",
       "    <tr>\n",
       "      <th>3</th>\n",
       "      <td>4</td>\n",
       "      <td>5</td>\n",
       "      <td>4</td>\n",
       "      <td>4</td>\n",
       "      <td>4</td>\n",
       "      <td>3</td>\n",
       "      <td>3</td>\n",
       "      <td>2</td>\n",
       "      <td>2</td>\n",
       "      <td>2</td>\n",
       "      <td>...</td>\n",
       "      <td>2</td>\n",
       "      <td>3</td>\n",
       "      <td>4</td>\n",
       "      <td>4</td>\n",
       "      <td>32</td>\n",
       "      <td>1</td>\n",
       "      <td>93</td>\n",
       "      <td>US</td>\n",
       "      <td>1</td>\n",
       "      <td>806</td>\n",
       "    </tr>\n",
       "    <tr>\n",
       "      <th>4</th>\n",
       "      <td>4</td>\n",
       "      <td>0</td>\n",
       "      <td>4</td>\n",
       "      <td>4</td>\n",
       "      <td>4</td>\n",
       "      <td>3</td>\n",
       "      <td>5</td>\n",
       "      <td>1</td>\n",
       "      <td>2</td>\n",
       "      <td>4</td>\n",
       "      <td>...</td>\n",
       "      <td>4</td>\n",
       "      <td>2</td>\n",
       "      <td>3</td>\n",
       "      <td>2</td>\n",
       "      <td>46</td>\n",
       "      <td>2</td>\n",
       "      <td>87</td>\n",
       "      <td>NZ</td>\n",
       "      <td>1</td>\n",
       "      <td>1826</td>\n",
       "    </tr>\n",
       "  </tbody>\n",
       "</table>\n",
       "<p>5 rows × 169 columns</p>\n",
       "</div>"
      ],
      "text/plain": [
       "   A1  A2  A3  A4  A5  A6  A7  A8  A9  A10   ...     P7  P8  P9  P10  age  \\\n",
       "0   1   4   2   3   3   2   3   4   4    3   ...      1   2   5    2   17   \n",
       "1   4   3   4   3   4   4   4   4   2    2   ...      3   2   2    2   37   \n",
       "2   3   4   4   4   4   4   4   3   2    2   ...      2   3   3    3   31   \n",
       "3   4   5   4   4   4   3   3   2   2    2   ...      2   3   4    4   32   \n",
       "4   4   0   4   4   4   3   5   1   2    4   ...      4   2   3    2   46   \n",
       "\n",
       "   gender  accuracy  country  source  elapsed  \n",
       "0       1        92       US       6      914  \n",
       "1       1       100       US       1      891  \n",
       "2       1        80       US       6      903  \n",
       "3       1        93       US       1      806  \n",
       "4       2        87       NZ       1     1826  \n",
       "\n",
       "[5 rows x 169 columns]"
      ]
     },
     "execution_count": 124,
     "metadata": {},
     "output_type": "execute_result"
    }
   ],
   "source": [
    "data = pd.read_csv(\"C:/Users/gokul/Documents/Projects/Career Advisor/16PF/data.csv\", sep=\"\\t\")\n",
    "data.head()"
   ]
  },
  {
   "cell_type": "code",
   "execution_count": 140,
   "metadata": {
    "collapsed": true
   },
   "outputs": [],
   "source": [
    "import requests\n",
    "import json\n",
    "\n",
    "headers = {\"Authorization\": \"Bearer $2a$12$kLOrQShABuEtl3qIcD69Bu1tPQKg0eWvyHLaoCo3L81YkSakH1QEK\",\"Content-Type\":\"application/json\"}\n",
    "r = requests.get(\"https://hackicims.com/api/v1/companies/2049\", headers=headers)\n",
    "\n",
    "payload = json.JSONEncoder().encode({ \"title\": \"computer engineer\"})\n",
    "r = requests.post(\"https://hackicims.com/api/v1/companies/2049/jobs\", data=payload, headers=headers)"
   ]
  },
  {
   "cell_type": "code",
   "execution_count": 155,
   "metadata": {},
   "outputs": [
    {
     "data": {
      "text/plain": [
       "{'Server': 'nginx/1.12.2', 'Date': 'Sun, 22 Apr 2018 06:50:00 GMT', 'Content-Length': '0', 'Connection': 'keep-alive', 'X-Powered-By': 'Express', 'location': 'http://ec2-54-144-123-186.compute-1.amazonaws.com:8080/api/v1/companies/2049/jobs/2008'}"
      ]
     },
     "execution_count": 155,
     "metadata": {},
     "output_type": "execute_result"
    }
   ],
   "source": [
    "r.headers\n",
    "2008"
   ]
  },
  {
   "cell_type": "code",
   "execution_count": 92,
   "metadata": {
    "collapsed": true
   },
   "outputs": [],
   "source": []
  },
  {
   "cell_type": "code",
   "execution_count": 233,
   "metadata": {
    "collapsed": true
   },
   "outputs": [],
   "source": [
    "from flask import Response, Flask, request\n",
    "from flask import Flask, request\n",
    "from flask_restful import Resource, Api\n",
    "from sqlalchemy import create_engine\n",
    "from json import dumps\n",
    "from flask_jsonpify import jsonify\n",
    "from pandas.io.json import json_normalize as jsy \n",
    "import requests\n",
    "import json\n",
    "\n",
    "ap = Flask(__name__)\n",
    "@ap.route('/job', methods=['GET', 'POST'])\n",
    "def jobs():\n",
    "    xx = request.json\n",
    "    yy = xx['title']\n",
    "    #yy = yy.as_type('str')\n",
    "    print(type(yy))\n",
    "    headers = {\"Authorization\": \"Bearer $2a$12$kLOrQShABuEtl3qIcD69Bu1tPQKg0eWvyHLaoCo3L81YkSakH1QEK\",\"Content-Type\":\"application/json\"}\n",
    "    r = requests.get(\"https://hackicims.com/api/v1/companies/2052\", headers=headers)\n",
    "    payload = json.JSONEncoder().encode({ \"id\": 2037, \"title\": \"Artist\"})\n",
    "    r = requests.get(\"https://hackicims.com/api/v1/companies/2052/jobs\", data=payload, headers=headers)\n",
    "    xxx = r.content\n",
    "    yyy = json.loads(xxx)\n",
    "    zzz = pd.Series(yyy).apply(lambda x: eval(str(x)))\n",
    "    ls = []\n",
    "    for each in zzz:\n",
    "        ls.append(each['title'])\n",
    "        if str(each['title']) == str(xx['title']):\n",
    "            print(each)\n",
    "    numar = np.array(ls)\n",
    "    print(numar)\n",
    "    print(numar[numar==xx['title']])\n",
    "    return \"%s\" %tee\n"
   ]
  },
  {
   "cell_type": "code",
   "execution_count": 234,
   "metadata": {
    "scrolled": true
   },
   "outputs": [
    {
     "name": "stderr",
     "output_type": "stream",
     "text": [
      " * Running on http://127.0.0.1:5000/ (Press CTRL+C to quit)\n"
     ]
    },
    {
     "name": "stdout",
     "output_type": "stream",
     "text": [
      "<class 'str'>\n"
     ]
    },
    {
     "name": "stderr",
     "output_type": "stream",
     "text": [
      "127.0.0.1 - - [22/Apr/2018 08:06:52] \"POST /job HTTP/1.1\" 200 -\n"
     ]
    },
    {
     "name": "stdout",
     "output_type": "stream",
     "text": [
      "[]\n"
     ]
    }
   ],
   "source": [
    "ap.run()"
   ]
  },
  {
   "cell_type": "code",
   "execution_count": 218,
   "metadata": {},
   "outputs": [
    {
     "data": {
      "text/plain": [
       "str"
      ]
     },
     "execution_count": 218,
     "metadata": {},
     "output_type": "execute_result"
    }
   ],
   "source": [
    "tem = 'Artist'\n",
    "type(tem)"
   ]
  },
  {
   "cell_type": "code",
   "execution_count": null,
   "metadata": {
    "collapsed": true
   },
   "outputs": [],
   "source": [
    "def jobfinder(sent):  \n",
    "    payload = json.JSONEncoder().encode({ \"id\": 2037, \"title\": \"Artist\"})\n",
    "    r = requests.get(\"https://hackicims.com/api/v1/companies/2052/jobs\", data=payload, headers=headers)\n",
    "    xxx = r.content\n",
    "    yyy = json.loads(xxx)\n",
    "    zzz = pd.Series(yyy).apply(lambda x: eval(str(x)))\n",
    "\n",
    "    for each in zzz:\n",
    "        if each['title'] == str(sent):\n",
    "            print(each)\n",
    "            \n",
    "#jobfinder(\"Doctor\")"
   ]
  },
  {
   "cell_type": "code",
   "execution_count": 191,
   "metadata": {},
   "outputs": [
    {
     "name": "stdout",
     "output_type": "stream",
     "text": [
      "{'id': 2021, 'title': 'Artist'}\n",
      "{'id': 2022, 'title': 'Artist'}\n",
      "{'id': 2023, 'title': 'Artist'}\n",
      "{'id': 2024, 'title': 'Artist'}\n",
      "{'id': 2025, 'title': 'Artist'}\n",
      "{'id': 2026, 'title': 'Artist'}\n",
      "{'id': 2027, 'title': 'Artist'}\n",
      "{'id': 2028, 'title': 'Artist'}\n",
      "{'id': 2029, 'title': 'Artist'}\n",
      "{'id': 2030, 'title': 'Artist'}\n"
     ]
    }
   ],
   "source": [
    "def oielk():\n",
    "    headers = {\"Authorization\": \"Bearer $2a$12$kLOrQShABuEtl3qIcD69Bu1tPQKg0eWvyHLaoCo3L81YkSakH1QEK\",\"Content-Type\":\"application/json\"}\n",
    "    r = requests.get(\"https://hackicims.com/api/v1/companies/2052\", headers=headers)\n",
    "    payload = json.JSONEncoder().encode({ \"id\": 2037, \"title\": \"Artist\"})\n",
    "    r = requests.get(\"https://hackicims.com/api/v1/companies/2052/jobs\", data=payload, headers=headers)\n",
    "    xxx = r.content\n",
    "    yyy = json.loads(xxx)\n",
    "    zzz = pd.Series(yyy).apply(lambda x: eval(str(x)))\n",
    "    for each in zzz:\n",
    "        #print(each)\n",
    "        if each['title'] == str('Artist'):\n",
    "            print(each)\n",
    "           \n",
    "oielk()"
   ]
  },
  {
   "cell_type": "code",
   "execution_count": 90,
   "metadata": {},
   "outputs": [
    {
     "name": "stdout",
     "output_type": "stream",
     "text": [
      "{'Server': 'nginx/1.12.2', 'Date': 'Sun, 22 Apr 2018 08:08:58 GMT', 'Content-Length': '0', 'Connection': 'keep-alive', 'X-Powered-By': 'Express', 'location': 'http://ec2-54-144-123-186.compute-1.amazonaws.com:8080/api/v1/companies/2052/jobs/2101'}\n"
     ]
    }
   ],
   "source": [
    "import requests\n",
    "import json\n",
    "headers = {\"Authorization\": \"Bearer $2a$12$kLOrQShABuEtl3qIcD69Bu1tPQKg0eWvyHLaoCo3L81YkSakH1QEK\",\"Content-Type\":\"application/json\"}\n",
    "r = requests.get(\"https://hackicims.com/api/v1/companies/2052\", headers=headers)\n",
    "\n",
    "for i in range(1,2):\n",
    "    payload = json.JSONEncoder().encode({ \"title\": \"Writer\"})\n",
    "    r = requests.post(\"https://hackicims.com/api/v1/companies/2052/jobs\", data=payload, headers=headers)\n",
    "    print(r.headers)"
   ]
  },
  {
   "cell_type": "code",
   "execution_count": null,
   "metadata": {
    "collapsed": true
   },
   "outputs": [],
   "source": []
  }
 ],
 "metadata": {
  "kernelspec": {
   "display_name": "Python 3",
   "language": "python",
   "name": "python3"
  },
  "language_info": {
   "codemirror_mode": {
    "name": "ipython",
    "version": 3
   },
   "file_extension": ".py",
   "mimetype": "text/x-python",
   "name": "python",
   "nbconvert_exporter": "python",
   "pygments_lexer": "ipython3",
   "version": "3.6.3"
  }
 },
 "nbformat": 4,
 "nbformat_minor": 2
}
